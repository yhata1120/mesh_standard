{
 "cells": [
  {
   "cell_type": "code",
   "execution_count": 1,
   "id": "e29c0613",
   "metadata": {},
   "outputs": [],
   "source": [
    "import numpy as np\n",
    "import os \n",
    "import glob\n",
    "import shutil\n",
    "import math\n",
    "import pandas as pd\n",
    "import matplotlib.pyplot as plt"
   ]
  },
  {
   "cell_type": "code",
   "execution_count": 10,
   "id": "b384765f",
   "metadata": {},
   "outputs": [
    {
     "data": {
      "text/plain": [
       "['Mo_1',\n",
       " 'Mo_2',\n",
       " 'Mo_3',\n",
       " 'Mo_4',\n",
       " 'Mo_5',\n",
       " 'Mo_6',\n",
       " 'Mo_7',\n",
       " 'Mo_8',\n",
       " 'Mo_9',\n",
       " 'Mo_10']"
      ]
     },
     "execution_count": 10,
     "metadata": {},
     "output_type": "execute_result"
    }
   ],
   "source": [
    "os.listdir(\"Mo\")"
   ]
  },
  {
   "cell_type": "code",
   "execution_count": 11,
   "id": "01152c0e",
   "metadata": {},
   "outputs": [
    {
     "data": {
      "text/plain": [
       "1736.99726934078"
      ]
     },
     "execution_count": 11,
     "metadata": {},
     "output_type": "execute_result"
    }
   ],
   "source": [
    "np.loadtxt(\"Mo/Mo_1/results\")[:,-2].min()"
   ]
  },
  {
   "cell_type": "code",
   "execution_count": 2,
   "id": "9452fee1",
   "metadata": {
    "scrolled": true
   },
   "outputs": [
    {
     "name": "stdout",
     "output_type": "stream",
     "text": [
      "701.692131508809\n",
      "Cu_1\n",
      "701.692189596927\n",
      "Cu_2\n",
      "701.693250131211\n",
      "Cu_3\n",
      "706.962011973561\n",
      "Cu_4\n",
      "701.692458625596\n",
      "Cu_5\n",
      "701.69355125791\n",
      "Cu_6\n",
      "706.961862086918\n",
      "Cu_7\n",
      "706.962011973561\n",
      "Cu_8\n",
      "706.96215485115\n",
      "Cu_9\n",
      "706.961929860597\n",
      "Cu_10\n"
     ]
    }
   ],
   "source": [
    "minen_list = []\n",
    "for i in os.listdir(\"Cu\"):\n",
    "    print(np.loadtxt(f\"Cu/{i}/results\")[:,-2].min())\n",
    "    print(i)\n",
    "    minen_list.append(np.loadtxt(f\"Cu/{i}/results\")[:,-2].min())"
   ]
  },
  {
   "cell_type": "code",
   "execution_count": 3,
   "id": "47810699",
   "metadata": {},
   "outputs": [
    {
     "data": {
      "text/plain": [
       "[<matplotlib.lines.Line2D at 0x2ba3e13879d0>]"
      ]
     },
     "execution_count": 3,
     "metadata": {},
     "output_type": "execute_result"
    },
    {
     "data": {
      "image/png": "[encoded data removed]",
      "text/plain": [
       "<Figure size 432x288 with 1 Axes>"
      ]
     },
     "metadata": {
      "needs_background": "light"
     },
     "output_type": "display_data"
    }
   ],
   "source": [
    "plt.plot(minen_list)"
   ]
  },
  {
   "cell_type": "code",
   "execution_count": null,
   "id": "fe209ae0",
   "metadata": {},
   "outputs": [],
   "source": []
  },
  {
   "cell_type": "code",
   "execution_count": null,
   "id": "f7abb256",
   "metadata": {},
   "outputs": [],
   "source": []
  },
  {
   "cell_type": "code",
   "execution_count": null,
   "id": "f30e71cb",
   "metadata": {},
   "outputs": [],
   "source": []
  }
 ],
 "metadata": {
  "kernelspec": {
   "display_name": "Python 3 (ipykernel)",
   "language": "python",
   "name": "python3"
  },
  "language_info": {
   "codemirror_mode": {
    "name": "ipython",
    "version": 3
   },
   "file_extension": ".py",
   "mimetype": "text/x-python",
   "name": "python",
   "nbconvert_exporter": "python",
   "pygments_lexer": "ipython3",
   "version": "3.8.3"
  }
 },
 "nbformat": 4,
 "nbformat_minor": 5
}
